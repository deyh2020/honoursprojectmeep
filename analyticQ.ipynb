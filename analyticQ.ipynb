{
 "cells": [
  {
   "cell_type": "code",
   "execution_count": 4,
   "metadata": {},
   "outputs": [],
   "source": [
    "# Analytical Value of Q as found in Kippenberg's thesis\n",
    "import numpy as np\n",
    "from scipy import special\n",
    "import matplotlib.pyplot as plt"
   ]
  },
  {
   "cell_type": "code",
   "execution_count": 5,
   "metadata": {},
   "outputs": [
    {
     "name": "stdout",
     "output_type": "stream",
     "text": [
      "Frequency = 0.6501950585175552\n"
     ]
    },
    {
     "data": {
      "text/plain": [
       "'\\nr = 1 / (2 * np.pi * freq) * (m + 1 / 2 + az * ((m + 1) / 3) ** (1 / 3)\\n                              - q / np.sqrt(q ** 2 - 1) + 3 * az / (2 ** (2 / 3) * 10 * (m + 1 / 2) ** (1 / 3))\\n                              + q ** 3 * az / (3 * 2 ** (1 / 3) * (q ** 2 - 1) ** (3 / 2) * (m + 1 / 2) ** (3 / 2)))\\n'"
      ]
     },
     "execution_count": 5,
     "metadata": {},
     "output_type": "execute_result"
    }
   ],
   "source": [
    "# Vacuum Wavelength of source\n",
    "wvln = 1.538  # micrometers\n",
    "# wvln = 0.852359 # for quartz example given by buck, kimble 2003\n",
    "\n",
    "# Gaussian Pulse Source parameters\n",
    "freq = 1 / wvln\n",
    "fcen = freq\n",
    "print(\"Frequency = \" + str(fcen))\n",
    "# cen = 0.6496971259430409\n",
    "df = 0.01\n",
    "\n",
    "n = 3.4483 + 1j * 1.0901e-13\n",
    "# n = 1.45246 # quartz again\n",
    "\n",
    "# Setting real and complex permitivities, and material loss\n",
    "# complexPerm = 0\n",
    "# realPerm = 12\n",
    "perm = np.power(n, 2)\n",
    "complexPerm = np.imag(perm)\n",
    "realPerm = np.real(perm)\n",
    "cond = 2 * np.pi * freq * complexPerm / realPerm\n",
    "\n",
    "# Refractive index and ratio with index outside resonator\n",
    "n = np.sqrt(realPerm)\n",
    "q = n / 1\n",
    "\n",
    "nrad = 1  # Set to 1 to get fundamental whispering gallery modes\n",
    "\n",
    "# Which zero of the airy function we need\n",
    "azs = special.ai_zeros(nrad)[0]\n",
    "az = azs[nrad - 1]\n",
    "\n",
    "\n",
    "def m2r(x):\n",
    "    return 1 / (2 * np.pi * freq) * (x + 1 / 2 + az * ((x + 1 / 2) / 2) ** (1 / 3) - q / np.sqrt(q ** 2 - 1)\n",
    "                                     + 3 * az / (2 ** (2 / 3) * 10 * (x + 1 / 2) ** (1 / 3)) + q ** 3 * az\n",
    "                                     / (3 * 2 ** (1 / 3) * (q ** 2 - 1) ** (3 / 2) * (x + 1 / 2) ** (2 / 3)))\n",
    "\n",
    "\n",
    "def m2rvar(x):\n",
    "    return 1 / (2 * np.pi * freq) * (x + az * (x / 2) ** (1 / 3) - q / np.sqrt(q ** 2 - 1)\n",
    "                                     + 3 * az / (2 ** (2 / 3) * 10 * x ** (1 / 3)) + q ** 3 * az\n",
    "                                     / (3 * 2 ** (1 / 3) * (q ** 2 - 1) ** (3 / 2) * x ** (2 / 3)))\n",
    "\n",
    "\n",
    "def qkippenberg(x):\n",
    "    # k = 2 * np.pi / 1530  # Fix this when i find out what they mean by k\n",
    "    k = 0.1\n",
    "    beta = ((x + 1 / 2) / 2) ** (1 / 3)\n",
    "    Tnl = (x + 1 / 2) * (np.arccosh(nrad) - np.sqrt(1 - 1 / (q ** 2))) + beta * az * np.sqrt(1 - 1 / (q ** 2))\n",
    "    return 1 / 2 * (x + 1 / 2 - beta * az - x ** (1 - 2 * k) / np.sqrt(x ** 2 - 1)) * x ** (-1 + 2 * k) * (\n",
    "            x ** 2 - 1) ** (1 / 2) * np.exp(2 * Tnl)\n",
    "\n",
    "\n",
    "def qbuck(x):\n",
    "    b = 0  # TE modes\n",
    "    xi = (1 / 2 * (x + 1 / 2)) ** (1 / 3)\n",
    "    eta = np.arccosh(n * (1 - 1 / (x + 1 / 2) * (az * xi + x ** (1 - 2 * b) / np.sqrt(x ** 2 - 1))) ** (-1))\n",
    "    Tl = (x + 1 / 2) * (eta - np.tanh(eta))\n",
    "    return 1 / 2 * (x + 1 / 2) * n ** (1 - 2 * b) * (n ** 2 - 1) ** (1 / 2) * np.exp(2 * Tl)\n",
    "\n",
    "\n",
    "# Size of resonator and waveguide, using schillers approx\n",
    "\"\"\"\n",
    "r = 1 / (2 * np.pi * freq) * (m + 1 / 2 + az * ((m + 1) / 3) ** (1 / 3)\n",
    "                              - q / np.sqrt(q ** 2 - 1) + 3 * az / (2 ** (2 / 3) * 10 * (m + 1 / 2) ** (1 / 3))\n",
    "                              + q ** 3 * az / (3 * 2 ** (1 / 3) * (q ** 2 - 1) ** (3 / 2) * (m + 1 / 2) ** (3 / 2)))\n",
    "\"\"\""
   ]
  },
  {
   "cell_type": "code",
   "execution_count": 6,
   "metadata": {},
   "outputs": [],
   "source": [
    "m = np.arange(20, 251, 1)\n",
    "r = m2r(m)\n",
    "Qrad = qbuck(m)\n",
    "\n",
    "Q = 1/(1/Qrad)"
   ]
  },
  {
   "cell_type": "code",
   "execution_count": 7,
   "metadata": {},
   "outputs": [
    {
     "data": {
      "image/png": "[encoded data removed]",
      "text/plain": [
       "<Figure size 432x288 with 1 Axes>"
      ]
     },
     "metadata": {
      "needs_background": "light"
     },
     "output_type": "display_data"
    }
   ],
   "source": [
    "fig1, ax1 = plt.subplots()\n",
    "\n",
    "ax1.plot(r, Q)\n",
    "# ax1.set_xlabel(\"Azimuthal mode number (m)\")\n",
    "ax1.set_xlabel(\"Resonator Radius\")\n",
    "ax1.set_ylabel(\"Q factor\")\n",
    "ax1.set_yscale('log')\n",
    "ax1.set_title(\"Bending Loss of Silicon WGM\")\n",
    "\n",
    "plt.show()"
   ]
  }
 ],
 "metadata": {
  "interpreter": {
   "hash": "415c08e0d6c6eace65555b362fcd5cd5372ffe27f8722ae522a6570d057755d7"
  },
  "kernelspec": {
   "display_name": "Python 3.6.12 ('mp')",
   "language": "python",
   "name": "python3"
  },
  "language_info": {
   "codemirror_mode": {
    "name": "ipython",
    "version": 3
   },
   "file_extension": ".py",
   "mimetype": "text/x-python",
   "name": "python",
   "nbconvert_exporter": "python",
   "pygments_lexer": "ipython3",
   "version": "3.6.12"
  },
  "orig_nbformat": 4
 },
 "nbformat": 4,
 "nbformat_minor": 2
}
